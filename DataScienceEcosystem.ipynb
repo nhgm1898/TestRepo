{
 "cells": [
  {
   "cell_type": "markdown",
   "id": "1550ff04-3675-47a1-ae82-8c3586925ff3",
   "metadata": {},
   "source": [
    "# Data Science Tools and Ecosystem"
   ]
  },
  {
   "cell_type": "markdown",
   "id": "e5847499-5703-474d-ae9d-851b3f6d459e",
   "metadata": {},
   "source": [
    "In this notebook, Data Science Tools and Ecosystem are summarized."
   ]
  },
  {
   "cell_type": "markdown",
   "id": "65c3fd38-84a6-4b24-8fe9-8b72c9f6a616",
   "metadata": {},
   "source": [
    "Some of the popular languages that Data Scientists use are:\n",
    "1. Python\n",
    "2. Java\n",
    "3. R\n",
    "4. Scala"
   ]
  },
  {
   "cell_type": "markdown",
   "id": "0241a108-0554-4522-b45a-3d225b92a74c",
   "metadata": {},
   "source": [
    "Some of the commonly used libraries used by Data Scientists include:\n",
    "1. Panda\n",
    "2. NumPy\n",
    "3. Plotly\n",
    "4. Matplotlib"
   ]
  },
  {
   "cell_type": "markdown",
   "id": "e0c7808e-cacf-42ee-b0eb-2ef364235f8a",
   "metadata": {},
   "source": [
    "Data Science Tools|\n",
    "-----------------|\n",
    "Jupyter Notebook |\n",
    "R Studio |\n",
    "Visual Studio Code |"
   ]
  },
  {
   "cell_type": "markdown",
   "id": "a3c9d71e-b0c8-4cb6-8b65-aedcc20e8f71",
   "metadata": {},
   "source": [
    "### Below are a few examples of evaluating arithmetic expressions in Python"
   ]
  },
  {
   "cell_type": "code",
   "execution_count": 1,
   "id": "6b978192-eede-46d7-8459-a9a9e7612658",
   "metadata": {},
   "outputs": [
    {
     "data": {
      "text/plain": [
       "17"
      ]
     },
     "execution_count": 1,
     "metadata": {},
     "output_type": "execute_result"
    }
   ],
   "source": [
    "(3*4)+5\n",
    "#  This a simple arithmetic expression to mutiply then add integers"
   ]
  },
  {
   "cell_type": "code",
   "execution_count": 5,
   "id": "7cbde7de-5560-4f4b-a6c0-9608f1522884",
   "metadata": {},
   "outputs": [
    {
     "name": "stdout",
     "output_type": "stream",
     "text": [
      "3.3333333333333335 Hours\n"
     ]
    }
   ],
   "source": [
    "# This will convert 200 minutes to hours by diving by 60\n",
    "print((200/60),'Hours') "
   ]
  },
  {
   "cell_type": "markdown",
   "id": "91fe8081-84bf-4add-85d1-53e0ebf7c010",
   "metadata": {},
   "source": [
    "**Objectives**\n",
    "- List popular languages for Data Science\n",
    "- List libraries for data sciense\n",
    "- Create data visualizations using ggplot\n",
    "- Use git/github"
   ]
  },
  {
   "cell_type": "markdown",
   "id": "8e331d26-cd72-403b-99d4-a4540b8426ed",
   "metadata": {},
   "source": [
    "## Author\n",
    "Nelson Guzman"
   ]
  },
  {
   "cell_type": "code",
   "execution_count": null,
   "id": "b7000e59-1aa1-4c25-a4a8-fc8fc0fae672",
   "metadata": {},
   "outputs": [],
   "source": []
  }
 ],
 "metadata": {
  "kernelspec": {
   "display_name": "Python [conda env:ibm_env]",
   "language": "python",
   "name": "conda-env-ibm_env-py"
  },
  "language_info": {
   "codemirror_mode": {
    "name": "ipython",
    "version": 3
   },
   "file_extension": ".py",
   "mimetype": "text/x-python",
   "name": "python",
   "nbconvert_exporter": "python",
   "pygments_lexer": "ipython3",
   "version": "3.13.2"
  }
 },
 "nbformat": 4,
 "nbformat_minor": 5
}
